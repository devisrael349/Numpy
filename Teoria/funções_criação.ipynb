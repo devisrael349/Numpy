{
 "cells": [
  {
   "cell_type": "markdown",
   "metadata": {},
   "source": [
    "# Funções de criação de arrays\n",
    "\n",
    "O numpy conta com uma infinidade de funções para a criação de ndarrays, desde ndarrays baseados em intervalo até ndarrays com valores aleatórios."
   ]
  },
  {
   "cell_type": "markdown",
   "metadata": {},
   "source": [
    "# np.array( )\n",
    "\n",
    "A função np.array retorna um array com base em uma sequência, os seus parâmetros:\n",
    "\n",
    "**object:** uma sequência nativa do python; a função retornará um array com os elementos dessa sequência, que pode ser uma lista, uma tupla ou uma string.\n",
    "\n",
    "**dtype:** define o tipo dos elementos que irão compor o array; não é um argumento obrigatório, o numpy detecta automaticamente o melhor tipo de dado para garantir que todos os elementos do array possuam o mesmo tipo de dado."
   ]
  },
  {
   "cell_type": "code",
   "execution_count": 3,
   "metadata": {},
   "outputs": [
    {
     "name": "stdout",
     "output_type": "stream",
     "text": [
      "Array gerado com np.array(): [1 2 3 4 5]\n"
     ]
    }
   ],
   "source": [
    "import numpy as np\n",
    "\n",
    "numeros = [1,2,3,4,5]\n",
    "\n",
    "numeros_array = np.array(numeros)\n",
    "\n",
    "print(f\"Array gerado com np.array(): {numeros_array}\")"
   ]
  },
  {
   "cell_type": "markdown",
   "metadata": {},
   "source": [
    "# np.zeros( )\n",
    "\n",
    "A função np.zeros retorna um array totalmente preenchido com zeros e possui os seguintes parâmetros:\n",
    "\n",
    "**shape:** Define a forma do array de zeros; números inteiros criam arrays unidimensionais e tuplas com a partir de dois elementos criam arrays multidimensionais.\n",
    "\n",
    "**dtype:** Define o tipo dos elementos que irão compor o array de zeros; não é um argumento obrigatório."
   ]
  },
  {
   "cell_type": "code",
   "execution_count": 9,
   "metadata": {},
   "outputs": [
    {
     "name": "stdout",
     "output_type": "stream",
     "text": [
      "Array gerado com o np.zeros(): [0. 0. 0. 0. 0. 0. 0. 0. 0. 0.]\n"
     ]
    }
   ],
   "source": [
    "import numpy as np\n",
    "\n",
    "zeros_array = np.zeros(10)\n",
    "\n",
    "print(f\"Array gerado com o np.zeros(): {zeros_array}\")"
   ]
  },
  {
   "cell_type": "markdown",
   "metadata": {},
   "source": [
    "# np.ones( )\n",
    "\n",
    "A função np.ones funciona de maneira semelhante ao np.zeros, a diferença é que esta gera um array preenchido com uns. O np.ones() possui os seguintes parâmetros:\n",
    "\n",
    "**shape:** Define a forma do array de uns; valores inteiros retornam arrays unidimensionais e tuplas com a partir de dois elementos retornam arrays multidimensionais.\n",
    "\n",
    "**dtype:** Define o tipo dos elementos que irão compor o array de uns; argumento não obrigatório, o numpy detecta automaticamente o melhor tipo de dado para os elementos do array."
   ]
  },
  {
   "cell_type": "code",
   "execution_count": 10,
   "metadata": {},
   "outputs": [
    {
     "name": "stdout",
     "output_type": "stream",
     "text": [
      "Array gerado com o np.ones(): \n",
      "[[1. 1. 1.]\n",
      " [1. 1. 1.]]\n"
     ]
    }
   ],
   "source": [
    "import numpy as np\n",
    "\n",
    "ones_array = np.ones((2,3))\n",
    "\n",
    "print(f\"Array gerado com o np.ones(): \\n{ones_array}\")"
   ]
  },
  {
   "cell_type": "markdown",
   "metadata": {},
   "source": [
    "# np.zeros_like( )\n",
    "\n",
    "A função np.zeros_like cria um array de zeros com a mesma forma e o mesmo tipo de dado do array de referência, possui os seguintes parâmetros:\n",
    "\n",
    "**a:** o array de referência; a função cria um array com a mesma forma e tipo de dado deste array, mas preenchido com zeros."
   ]
  },
  {
   "cell_type": "code",
   "execution_count": 13,
   "metadata": {},
   "outputs": [
    {
     "name": "stdout",
     "output_type": "stream",
     "text": [
      "Array original de números: \n",
      "[[1 2 3 4]\n",
      " [7 8 9 0]]\n",
      "\n",
      "Array de zeros com mesma forma e tipo de dados: \n",
      "[[0 0 0 0]\n",
      " [0 0 0 0]]\n"
     ]
    }
   ],
   "source": [
    "import numpy as np\n",
    "\n",
    "array_numeros = np.array([[1,2,3,4], [7, 8, 9, 0]])\n",
    "\n",
    "array_zeros = np.zeros_like(array_numeros)\n",
    "\n",
    "print(f\"Array original de números: \\n{array_numeros}\\n\")\n",
    "print(f\"Array de zeros com mesma forma e tipo de dados: \\n{array_zeros}\")\n"
   ]
  },
  {
   "cell_type": "markdown",
   "metadata": {},
   "source": [
    "# np.ones_like( )\n",
    "\n",
    "A função ones_like possui um funcionamento bem semelhante ao da função zeros_like, mas esta retorna um array de mesma forma e tipo de dados do array de diferença preenchido com uns, possui os seguintes parâmetros:\n",
    "\n",
    "**a:** array de referência, a função cria um array de mesma forma e tipo de dado deste array, mas o array é preenchido com uns.\n",
    "\n"
   ]
  },
  {
   "cell_type": "code",
   "execution_count": 16,
   "metadata": {},
   "outputs": [
    {
     "name": "stdout",
     "output_type": "stream",
     "text": [
      "Array original de letras: \n",
      "[['a' 'b' 'c']\n",
      " ['x' 'y' 'z']]\n",
      "\n",
      "Array de uns com mesma forma e tipo de dados: \n",
      "[['1' '1' '1']\n",
      " ['1' '1' '1']]\n"
     ]
    }
   ],
   "source": [
    "import numpy as np\n",
    "\n",
    "array_letras = np.array([[\"a\", \"b\", \"c\"], [\"x\", \"y\", \"z\"]])\n",
    "\n",
    "array_uns = np.ones_like(array_letras)\n",
    "\n",
    "print(f\"Array original de letras: \\n{array_letras}\\n\")\n",
    "print(f\"Array de uns com mesma forma e tipo de dados: \\n{array_uns}\")"
   ]
  }
 ],
 "metadata": {
  "kernelspec": {
   "display_name": "base",
   "language": "python",
   "name": "python3"
  },
  "language_info": {
   "codemirror_mode": {
    "name": "ipython",
    "version": 3
   },
   "file_extension": ".py",
   "mimetype": "text/x-python",
   "name": "python",
   "nbconvert_exporter": "python",
   "pygments_lexer": "ipython3",
   "version": "3.10.9"
  }
 },
 "nbformat": 4,
 "nbformat_minor": 2
}
