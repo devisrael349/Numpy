{
 "cells": [
  {
   "cell_type": "markdown",
   "metadata": {},
   "source": [
    "# Atributos de um ndarray\n",
    "\n",
    "#### como toda classe, os ndarrays possuem atributos:\n",
    "\n",
    "### shape\n",
    "### size\n",
    "### ndim\n",
    "### dtype"
   ]
  },
  {
   "cell_type": "code",
   "execution_count": null,
   "metadata": {},
   "outputs": [],
   "source": [
    "import numpy as np\n",
    "\n",
    "array = np.array([1,2,3,4,5], dtype = \"float128\")\n",
    "\n",
    "print(array)\n",
    "print(f\"Forma do ndarray: {array.shape}\")\n",
    "print(f\"Quantidade de elementos do ndarray: {array.size}\")\n",
    "print(f\"Tipo dos dados do ndarray: {array.dtype}\")\n",
    "print(f\"Número de dimensões do ndarray: {array.ndim}\")"
   ]
  }
 ],
 "metadata": {
  "kernelspec": {
   "display_name": "base",
   "language": "python",
   "name": "python3"
  },
  "language_info": {
   "codemirror_mode": {
    "name": "ipython",
    "version": 3
   },
   "file_extension": ".py",
   "mimetype": "text/x-python",
   "name": "python",
   "nbconvert_exporter": "python",
   "pygments_lexer": "ipython3",
   "version": "3.10.9"
  }
 },
 "nbformat": 4,
 "nbformat_minor": 2
}
